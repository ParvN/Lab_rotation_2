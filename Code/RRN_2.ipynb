{
  "nbformat": 4,
  "nbformat_minor": 0,
  "metadata": {
    "kernelspec": {
      "display_name": "Python 3",
      "language": "python",
      "name": "python3"
    },
    "language_info": {
      "codemirror_mode": {
        "name": "ipython",
        "version": 3
      },
      "file_extension": ".py",
      "mimetype": "text/x-python",
      "name": "python",
      "nbconvert_exporter": "python",
      "pygments_lexer": "ipython3",
      "version": "3.7.6"
    },
    "colab": {
      "name": "Task3.ipynb",
      "provenance": [],
      "collapsed_sections": []
    }
  },
  "cells": [
    {
      "cell_type": "code",
      "metadata": {
        "id": "k2zm4VXCxeHt",
        "colab_type": "code",
        "colab": {}
      },
      "source": [
        "import numpy as np\n",
        "import time\n",
        "import matplotlib.pyplot as plt\n",
        "import random\n",
        "import numba\n",
        "import numba.types as nt\n",
        "from numba import jit,prange\n",
        "import argparse\n",
        "%matplotlib inline"
      ],
      "execution_count": 11,
      "outputs": []
    },
    {
      "cell_type": "code",
      "metadata": {
        "id": "eqdF4oeOxeH2",
        "colab_type": "code",
        "colab": {}
      },
      "source": [
        "def rate_network_params():\n",
        "    # Function for defining all the rate network parameters defined on the paper\n",
        "    \n",
        "    parser = argparse.ArgumentParser()\n",
        "    parser.add_argument('-Ne','--Ne',action=\"store\",default=1024,type=int,help=\"Number of excitatory neurons\")\n",
        "    parser.add_argument('-Ni','--Ni',action=\"store\",default=256,type=int,help=\"Number of inhibitory neurons\")\n",
        "    \n",
        "    parser.add_argument('-tau_e','--tau_e',action=\"store\",default=0.020,type=int or float,help=\"Time constant τe in s\")\n",
        "    parser.add_argument('-tau_i','--tau_i',action=\"store\",default=0.010,type=int or float,help=\"Time constant τi in s\")\n",
        "    parser.add_argument('-tau_p','--tau_p',action=\"store\",default=0.5,type=int or float,help=\"Time constant τp in s\")\n",
        "    parser.add_argument('-tau_w','--tau_w',action=\"store\",default=300,type=int or float,help=\"Time constant τw in s\")\n",
        "    \n",
        "    parser.add_argument('-c','--c',action=\"store\",default=100 * 2 **(-10),help=\"Connection probability\")\n",
        "    parser.add_argument('-rmax','--rmax',action=\"store\",default=200,help=\"Saturation firing rate\")\n",
        "    parser.add_argument('-I','--I',action=\"store\",default=0.5,help=\"To specify mu and sigma in noise distribution\")\n",
        "    parser.add_argument('-dt','--dt',action=\"store\",default=0.001,help=\"timestep in ms\")\n",
        "    parser.add_argument('-eta','--eta',action=\"store\",default=5,help=\"eta\")\n",
        "    parser.add_argument('-kappa','--kappa',action=\"store\",default=5,help=\"kappa\")\n",
        "    return parser.parse_args(args=[]) "
      ],
      "execution_count": 12,
      "outputs": []
    },
    {
      "cell_type": "code",
      "metadata": {
        "id": "JmyINSDUxeH5",
        "colab_type": "code",
        "colab": {}
      },
      "source": [
        "@numba.njit(nt.int64[::1](nt.int64[::1],nt.int64))\n",
        "def delete(arr, num):\n",
        "    # Delete an element from an array \n",
        "    \n",
        "    mask = np.zeros(arr.shape[0], dtype=np.int64) == 0\n",
        "    mask[np.where(arr == num)[0]] = False\n",
        "    return arr[mask]"
      ],
      "execution_count": 13,
      "outputs": []
    },
    {
      "cell_type": "code",
      "metadata": {
        "id": "rKjwQzTnxeH9",
        "colab_type": "code",
        "colab": {}
      },
      "source": [
        "@numba.njit(nt.float64[:,::1](nt.float64,nt.int64,nt.int64,nt.int64,nt.boolean))\n",
        "def change_weights(value,Na,Nb,Nconn,aut_flag=False):    \n",
        "    # Function for changing/adding weights(synapses)\n",
        "\n",
        "    W = np.zeros((Na,Nb))    \n",
        "    for i in range(Na):  \n",
        "        if aut_flag : # For wee and wii\n",
        "            Nb_arr = delete(np.arange(Nb),i)\n",
        "            C = np.random.choice(Nb_arr,Nconn,replace=False)\n",
        "             \n",
        "        else:\n",
        "            C = np.random.choice(np.arange(Nb),Nconn,replace=False)   \n",
        "            \n",
        "        for j in C: \n",
        "            W[i][j] = value/(Nconn)\n",
        "    return W"
      ],
      "execution_count": 14,
      "outputs": []
    },
    {
      "cell_type": "code",
      "metadata": {
        "id": "GfVGyvuyxeIB",
        "colab_type": "code",
        "colab": {}
      },
      "source": [
        "@numba.njit\n",
        "def simulate_model(num_of_steps,I,c,Ne,Ni,p,re,ri,dt,τe,τi,τp,β_val,Wee,Wei,Wie,Wii,rmax,η,τw,k,w0,τc,wee_w,plas_on):\n",
        "    #Function for simulation  \n",
        "    \n",
        "    we0  = np.nonzero(Wee)[0]      #Nonzero indices of Wee to keep track of i,j indices in dw/dt\n",
        "    we1  = np.nonzero(Wee)[1]   \n",
        "    r       = np.ones((Ne)) * k\n",
        "    wei     = 1/(c*Ni)             #Wei[np.nonzero(Wei)][0]     #wei  = 1/c*Ni      \n",
        "    w0      = 1/(c*Ne)             #w0   = 1/ (c *Ne)\n",
        "    wmax    = 10*wee_w             #wmax = 10 * wee_w  \n",
        "\n",
        "    #Plasticity on time if specified\n",
        "    if plas_on:\n",
        "      mins    = 60 * 10**3           # 1min\n",
        "      plas_on_time = 6 * mins        # Plasticity on at 6mins\n",
        "\n",
        "    #all below params for storing results\n",
        "    sk = 5000                      #take re,ri every 5000 steps\n",
        "    rec_steps = n=int(round(num_of_steps/sk))\n",
        "    mean_re = np.zeros((rec_steps,Ne))\n",
        "    mean_ri = np.zeros((rec_steps,Ni))\n",
        "    p_list  = np.zeros((rec_steps))\n",
        "    ti = 0  \n",
        "\n",
        "    for i in range(1,num_of_steps): \n",
        "        \n",
        "        #noise\n",
        "        I_bg = np.random.normal(I, 0.1*I, Ne) \n",
        "        \n",
        "        #Wee\n",
        "        if i>=plas_on_time and plas_on:\n",
        "           for wi in range(len(we0)):\n",
        "            i_index = we0[wi]\n",
        "            j_index = we1[wi] \n",
        "            Wee[i_index,j_index]  = np.minimum(np.maximum(Wee[i_index,j_index] + (dt/τw) * (((η * w0 * re[i_index]*re[j_index])/k**3) * (re[i_index]-(r[i_index]**2/k))),0),wmax) \n",
        "           \n",
        "        \n",
        "        #d/dt terms of p,re and ri       \n",
        "        p    = np.minimum(np.maximum(p       + (dt/τp) * (-p  + 1-β_val*c * np.sum(wei*ri)),0),1)               \n",
        "        re   = np.minimum(np.maximum(re      + (dt/τe) * (-re + p*np.dot(Wee,re)-np.dot(Wei,ri)+I_bg),0),rmax)                \n",
        "        ri   = np.minimum(np.maximum(ri      + (dt/τi) * (-ri + np.dot(Wie,re)- np.dot(Wii,ri)),0),rmax) \n",
        "\n",
        "        \n",
        "        #r          \n",
        "        r    = np.minimum(np.maximum(r + (dt/τc) * (-r + re),0),rmax)\n",
        "        \n",
        "        if i% sk == 0 :\n",
        "          ti = int(round(i/sk))\n",
        "        mean_re[ti,:] += re/sk\n",
        "        mean_ri[ti,:] += ri/sk\n",
        "        p_list[ti] = p\n",
        "        \n",
        "        if i % mins == 0: #Print mean_re every 1 min for checking\n",
        "         print(np.mean(mean_re)) \n",
        "    \n",
        "    return mean_re,mean_ri,p_list"
      ],
      "execution_count": 15,
      "outputs": []
    },
    {
      "cell_type": "code",
      "metadata": {
        "id": "WYmz5_ATxeIE",
        "colab_type": "code",
        "colab": {}
      },
      "source": [
        "#All parameter definitions\n",
        "\n",
        "args  = rate_network_params()\n",
        "\n",
        "Ne    = args.Ne             # number of excitatory neurons\n",
        "Ni    = args.Ni             # number of inhibitory neurons\n",
        "τe    = args.tau_e          # time constant in ms\n",
        "τi    =  args.tau_i\n",
        "p     = 1                   # 1 for the absence of presynaptic inhibition\n",
        "c     = args.c              # connection probability\n",
        "rmax  = args.rmax           # firing rates rectified and saturated at rmax Hz\n",
        "dt    = args.dt             # timestep in ms\n",
        "I     = args.I              # Hz\n",
        "N     = Ne+Ni               # Total no: of neurons\n",
        "r_cNe = int(c*Ne)           # Number of excitatory connections\n",
        "r_cNi = int(c*Ni)           # Number of inhibitory connections\n",
        "τp    = args.tau_p          \n",
        "η     = args.eta            #learning rate\n",
        "τw    = args.tau_w          #\n",
        "k     = args.kappa          #\n",
        "\n",
        "mins = 60 * (10**3)         # 60 sec\n",
        "num_of_steps = 60 * mins    # timesteps to solve diff.eqns.\n",
        "\n",
        "plas_on = True              # plasticity on\n",
        "β_val   = 0.05              # Beta \n",
        "pstar   = 1-β_val*k         # p*\n",
        "\n",
        "w0    = 1                   # initial w0\n",
        "wei_w = 1                   # Weights          \n",
        "wie_w = 1.5\n",
        "wii_w = 0.5\n",
        "\n",
        "tc    = [90]                # tauc\n",
        "\n",
        "Wii = change_weights(wii_w,Ni,Ni,r_cNi,True)\n",
        "Wie = change_weights(wie_w,Ni,Ne,r_cNe,False)\n",
        "Wei = change_weights(wei_w,Ne,Ni,r_cNi,False)\n"
      ],
      "execution_count": 16,
      "outputs": []
    },
    {
      "cell_type": "code",
      "metadata": {
        "id": "3bVilh7BgmfZ",
        "colab_type": "code",
        "colab": {}
      },
      "source": [
        "#Wee with noise:\n",
        "\n",
        "wee_w = (1 + wei_w * wie_w/(1+wii_w )- I/k)/pstar/r_cNe\n",
        "Wee = np.zeros((Ne,Ne))\n",
        "aut_flag = True\n",
        "\n",
        "for i in range(Ne):\n",
        "  if aut_flag :\n",
        "    Nb_arr = delete(np.arange(Ne),i)\n",
        "    C = np.random.choice(Nb_arr,r_cNe,replace=False)            \n",
        "  else:\n",
        "    C = np.random.choice(np.arange(Ne),r_cNe,replace=False)  \n",
        "  for j in C:\n",
        "    Wee[i][j] = np.random.normal(wee_w,.0025,1)"
      ],
      "execution_count": 17,
      "outputs": []
    },
    {
      "cell_type": "code",
      "metadata": {
        "id": "H-DJcHxCxeIJ",
        "colab_type": "code",
        "colab": {
          "base_uri": "https://localhost:8080/",
          "height": 1000
        },
        "outputId": "817c7452-123c-48c1-db5c-61d4189e97f9"
      },
      "source": [
        "start = time.time()\n",
        "print(\"Starting Simulation with \"+str(num_of_steps)+ \" timesteps\")\n",
        "\n",
        "for t_index,τc in enumerate(tc):            \n",
        "    re = np.ones((Ne)) * k     #re\n",
        "    ri = np.ones((Ni)) * k     #ri\n",
        "    p  = pstar                 #p\n",
        "    mean_re,mean_ri,p_list = simulate_model(num_of_steps,I,c,Ne,Ni,p,re,ri,dt,τe,τi,τp,β_val,Wee,Wei,Wie,Wii,rmax,η,τw,k,w0,τc,wee_w,plas_on)\n",
        "    \n",
        "print(\"Simulation ended\") \n",
        "stop = time.time()\n",
        "\n",
        "print(\"Time elapsed: \"+str(stop-start) + \" secs\")"
      ],
      "execution_count": 18,
      "outputs": [
        {
          "output_type": "stream",
          "text": [
            "Starting Simulation with 3600000 timesteps\n",
            "0.0833437155084418\n",
            "0.16668705534678227\n",
            "0.2500306377234817\n",
            "0.33337436890431316\n",
            "0.41671816725607513\n",
            "0.5000621197762991\n",
            "0.5833443313027933\n",
            "0.6665212118131045\n",
            "0.7497250475042403\n",
            "0.833048709491687\n",
            "0.9164529021881034\n",
            "0.9999407463667803\n",
            "1.0835842406562706\n",
            "1.1671639604937893\n",
            "1.2501161477277047\n",
            "1.3323120084350815\n",
            "1.4144971007209266\n",
            "1.4975478738256818\n",
            "1.5816071209964544\n",
            "1.6664019240925625\n",
            "1.751739198007643\n",
            "1.8361239364631627\n",
            "1.9165647904076883\n",
            "1.9931229283923946\n",
            "2.069711079972938\n",
            "2.1512161297018695\n",
            "2.240743844794425\n",
            "2.334871621987707\n",
            "2.466749221082174\n",
            "2.695910371835448\n",
            "2.9129672102559714\n",
            "3.133729896066155\n",
            "3.3547090701405313\n",
            "3.5744024589686236\n",
            "3.7767613009295617\n",
            "3.9774003734065224\n",
            "4.1970863585140235\n",
            "4.411210257867902\n",
            "4.623408483463916\n",
            "4.834408162617315\n",
            "5.0494600427188185\n",
            "5.260980846625308\n",
            "5.476702449960587\n",
            "5.687056803865074\n",
            "5.896008978841734\n",
            "6.10639409801137\n",
            "6.324137630102011\n",
            "6.532820632322006\n",
            "6.74050147357006\n",
            "6.954080512246749\n",
            "7.1700095776355806\n",
            "7.384957349688002\n",
            "7.59445067378383\n",
            "7.809313378429692\n",
            "8.021580141359468\n",
            "8.2379639401235\n",
            "8.450135881528412\n",
            "8.659471426914624\n",
            "8.876923633673474\n",
            "Simulation ended\n",
            "Time elapsed: 8800.808419466019 secs\n"
          ],
          "name": "stdout"
        }
      ]
    },
    {
      "cell_type": "code",
      "metadata": {
        "id": "dDd-u8pcxeIO",
        "colab_type": "code",
        "colab": {
          "base_uri": "https://localhost:8080/",
          "height": 386
        },
        "outputId": "2e9399cf-16f7-4e72-c770-3c10ecc7fa5b"
      },
      "source": [
        "#Plot results\n",
        "t = np.linspace(0,60,720)\n",
        "fig, ax = plt.subplots(nrows=1, ncols=2, figsize=(12,3), dpi = 120)\n",
        "ax[0].plot(t,np.mean(mean_re,axis=1),marker = \".\", label = \"Mean re\")\n",
        "ax[0].plot(t,np.mean(mean_ri,axis=1),lw = 2,label = \"Mean ri\")\n",
        "ax[0].set(xlabel='time(mins)', ylabel='Mean re/ Mean ri',ylim=[0,20])\n",
        "ax[0].legend()\n",
        "ax[1].plot(t,p_list)\n",
        "ax[1].set(xlabel='time steps', ylabel='p')\n",
        "plt.subplots_adjust(bottom=0.09, hspace=0.1)\n",
        "plt.show() "
      ],
      "execution_count": 19,
      "outputs": [
        {
          "output_type": "display_data",
          "data": {
            "image/png": "[encoded data removed]",
            "text/plain": [
              "<Figure size 1440x360 with 2 Axes>"
            ]
          },
          "metadata": {
            "tags": [],
            "needs_background": "light"
          }
        }
      ]
    }
  ]
}