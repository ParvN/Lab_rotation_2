{
  "nbformat": 4,
  "nbformat_minor": 0,
  "metadata": {
    "kernelspec": {
      "display_name": "Python 3",
      "language": "python",
      "name": "python3"
    },
    "language_info": {
      "codemirror_mode": {
        "name": "ipython",
        "version": 3
      },
      "file_extension": ".py",
      "mimetype": "text/x-python",
      "name": "python",
      "nbconvert_exporter": "python",
      "pygments_lexer": "ipython3",
      "version": "3.7.6"
    },
    "colab": {
      "name": "RRN_1_E.ipynb",
      "provenance": [],
      "collapsed_sections": []
    }
  },
  "cells": [
    {
      "cell_type": "markdown",
      "metadata": {
        "id": "_Slpr_CjNdQz",
        "colab_type": "text"
      },
      "source": [
        "#### Rate network :  Fig.1E. with presynaptic inhibition"
      ]
    },
    {
      "cell_type": "code",
      "metadata": {
        "id": "7cGQ4EugNdQ3",
        "colab_type": "code",
        "colab": {}
      },
      "source": [
        "#Import all packages required\n",
        "import numpy as np\n",
        "import time\n",
        "import matplotlib.pyplot as plt\n",
        "import random\n",
        "import numba\n",
        "import numba.types as nt\n",
        "from numba import jit,prange\n",
        "import argparse\n",
        "%matplotlib inline"
      ],
      "execution_count": 1,
      "outputs": []
    },
    {
      "cell_type": "code",
      "metadata": {
        "id": "ps0EL-fqNdRA",
        "colab_type": "code",
        "colab": {}
      },
      "source": [
        "def rate_network_params():\n",
        "    # Function for defining all the rate network parameters defined on the paper\n",
        "    \n",
        "    parser = argparse.ArgumentParser()\n",
        "    parser.add_argument('-Ne','--Ne',action=\"store\",default=1024,type=int,help=\"Number of excitatory neurons\")\n",
        "    parser.add_argument('-Ni','--Ni',action=\"store\",default=256,type=int,help=\"Number of inhibitory neurons\")\n",
        "    parser.add_argument('-tau_e','--tau_e',action=\"store\",default=20,type=int or float,help=\"Time constant τe in ms\")\n",
        "    parser.add_argument('-tau_i','--tau_i',action=\"store\",default=10,type=int or float,help=\"Time constant τi in ms\")\n",
        "    parser.add_argument('-tau_p','--tau_p',action=\"store\",default=500,type=int or float,help=\"Time constant τp in ms\")\n",
        "    parser.add_argument('-c','--c',action=\"store\",default=100 * 2 **(-10),help=\"Connection probability\")\n",
        "    parser.add_argument('-rmax','--rmax',action=\"store\",default=200,help=\"Saturation firing rate\")\n",
        "    parser.add_argument('-I','--I',action=\"store\",default=0.5,help=\"To specify mu and sigma in noise distribution\")\n",
        "    parser.add_argument('-dt','--dt',action=\"store\",default=1,help=\"timestep in ms\")\n",
        "    parser.add_argument('-wii','--wii',action=\"store\",default=0.5,help=\"syn. weight wii\")\n",
        "    parser.add_argument('-wie','--wie',action=\"store\",default=1.5,help=\"syn. weight wie\")\n",
        "    parser.add_argument('-wei','--wei',action=\"store\",default=1,help=\"syn. weight wei\")\n",
        "    return parser.parse_args(args=[]) "
      ],
      "execution_count": 2,
      "outputs": []
    },
    {
      "cell_type": "code",
      "metadata": {
        "id": "XWFue2W6NdRJ",
        "colab_type": "code",
        "colab": {}
      },
      "source": [
        "@numba.njit(nt.int64[::1](nt.int64[::1],nt.int64))\n",
        "def delete(arr, num):\n",
        "    mask = np.zeros(arr.shape[0], dtype=np.int64) == 0\n",
        "    mask[np.where(arr == num)[0]] = False\n",
        "    return arr[mask]"
      ],
      "execution_count": 3,
      "outputs": []
    },
    {
      "cell_type": "code",
      "metadata": {
        "id": "9YSIdVbuNdRS",
        "colab_type": "code",
        "colab": {}
      },
      "source": [
        "@numba.njit\n",
        "def change_weights(value,Na,Nb,Nconn,aut_flag=False):    \n",
        "    # Function for changing/adding weights(synapses)\n",
        "\n",
        "    W = np.zeros((Na,Nb))    \n",
        "    for i in range(Na):  \n",
        "        if aut_flag : # For wee and wii\n",
        "            Nb_arr = delete(np.arange(Nb),i)\n",
        "            C = np.random.choice(Nb_arr,Nconn,replace=False)\n",
        "             \n",
        "        else:\n",
        "            C = np.random.choice(np.arange(Nb),Nconn,replace=False)   \n",
        "            \n",
        "        for j in C: \n",
        "            W[i][j] = value/(Nconn)\n",
        "    return W"
      ],
      "execution_count": 4,
      "outputs": []
    },
    {
      "cell_type": "code",
      "metadata": {
        "id": "u_m5Whc3NdRY",
        "colab_type": "code",
        "colab": {}
      },
      "source": [
        "@numba.njit\n",
        "def simulate_model(num_of_steps,I,Ne,Ni,c,p,re,ri,dt,τe,τi,τp,β_val,Wee,Wei,Wie,Wii,rmax,ana_ss_val):\n",
        "    #Function for simulated steady state calculation\n",
        "    \n",
        "    mean_r = []\n",
        "    wei = 1/ (c*Ni)\n",
        "    for i in range(1,num_of_steps): \n",
        "        \n",
        "        #noise\n",
        "        I_bg = np.random.normal(I, 0.1*I, Ne) \n",
        "        \n",
        "        #d/dt terms        \n",
        "        p = np.minimum(np.maximum(p  + (dt/τp) * (-p  + (1-β_val*c*np.sum(wei*ri))),0),1)\n",
        "        re= np.minimum(np.maximum(re + (dt/τe) * (-re + p*np.dot(Wee,re)-np.dot(Wei,ri)+I_bg),0),rmax)                \n",
        "        ri= np.minimum(np.maximum(ri+ (dt/τi) * (-ri + np.dot(Wie,re)- np.dot(Wii,ri)),0),rmax) \n",
        "                        \n",
        "        #Append mean of exc. population   \n",
        "        mean_r.append(np.mean(re))\n",
        "            \n",
        "    #Calculate steady state value\n",
        "    mean_r = np.asarray(mean_r) \n",
        "    ss     = mean_r[np.abs(mean_r-ana_ss_val)<=0.01]\n",
        "    ss_val = ss[0] if ss.size!=0 else 0\n",
        "    return ss_val,mean_r\n",
        "    \n"
      ],
      "execution_count": 5,
      "outputs": []
    },
    {
      "cell_type": "code",
      "metadata": {
        "id": "3lYInBLANdRc",
        "colab_type": "code",
        "colab": {
          "base_uri": "https://localhost:8080/",
          "height": 1000
        },
        "outputId": "c230dcb8-d8a9-4893-bb2d-cc563e1cca42"
      },
      "source": [
        "args=rate_network_params()\n",
        "\n",
        "Ne   = args.Ne             # number of excitatory neurons\n",
        "Ni   = args.Ni             # number of inhibitory neurons\n",
        "τe   = args.tau_e          # time constant in ms\n",
        "τi   = args.tau_i\n",
        "τp   = args.tau_p\n",
        "p    = 1                   # 1 for the absence of presynaptic inhibition\n",
        "c    = args.c              # connection probability\n",
        "rmax = args.rmax           # firing rates rectified and saturated at rmax Hz\n",
        "dt   = args.dt             # timestep in ms\n",
        "I    = args.I              # Hz\n",
        "N    = Ne+Ni               # Total no: of neurons\n",
        "r_cNe = int(c*Ne)          # Number of excitatory connections\n",
        "r_cNi = int(c*Ni)          # Number of inhibitory connections\n",
        "\n",
        "num_of_steps = 20000       #timesteps to solve diff.eqns.\n",
        "\n",
        "#Weights\n",
        "wee_w = np.linspace(0.001,5.0,26) #wee from 0.1 to 5\n",
        "wii_w = args.wii\n",
        "wie_w = args.wie\n",
        "wei_w = args.wei\n",
        "\n",
        "#Beta                             # For beta = 0 ---> Without presynaptic inhibition\n",
        "β     = np.arange(0.01,0.091,0.02)  #Try for one value of beta for the time being\n",
        "print(\"Beta: \" + str(β))\n",
        "\n",
        "sim_ss = np.zeros((len(β),len(wee_w)))  #Store steady state points\n",
        "ana_ss = np.zeros((len(β),len(wee_w)))  #analytical steady states\n",
        "\n",
        "Wii = change_weights(wii_w,Ni,Ni,r_cNi,True) # Matrix Wii = 0.5/c*Ni for Ni connections\n",
        "Wie = change_weights(wie_w,Ni,Ne,r_cNe)      # Matrix Wie = 1.5/c*Ne\n",
        "Wei = change_weights(wei_w,Ne,Ni,r_cNi)      # Matrix Wei = 1/c*Ni\n",
        "\n",
        "start = time.time()\n",
        "#Loop over beta\n",
        "for β_index,β_val in enumerate(β): \n",
        "        print(\"\\n Running Beta: \"+str(β_val)+ \"\\n\")\n",
        "        m = []           \n",
        "        #loop over WEE as free parameter\n",
        "        for wee_index,we in enumerate(wee_w):\n",
        "            print(\"  Running Wee: \"+str(we))\n",
        "            \n",
        "            Wee = change_weights(we,Ne,Ne,r_cNe,True)  # Matrix Wee = we/c*Ne\n",
        "            re = np.zeros((Ne))  \n",
        "            ri = np.zeros((Ni)) \n",
        "            p  = 1  \n",
        "            \n",
        "            #Analytical point\n",
        "            w  = we\n",
        "            wi = (wei_w * wie_w)/(1+wii_w)\n",
        "            sqr_val = np.sqrt(((w-1-wi)**2) + (4*β_val*w*wi*I))\n",
        "            ana_ss[β_index,wee_index] = (1/(2*β_val*wi*w)) * (w-1-wi+sqr_val)\n",
        "            \n",
        "            #Simulated point\n",
        "            sim_ss[β_index,wee_index],mean_r = simulate_model(num_of_steps,I,Ne,Ni,c,p,re,ri,dt,τe,τi,τp,β_val,Wee,Wei,Wie,Wii,rmax,ana_ss[β_index,wee_index])\n",
        "            m.append(mean_r)    \n",
        "            \n",
        "stop = time.time()\n",
        "print(\"Time elapsed: \"+str(stop-start))"
      ],
      "execution_count": 6,
      "outputs": [
        {
          "output_type": "stream",
          "text": [
            "Beta: [0.01 0.03 0.05 0.07 0.09]\n",
            "\n",
            " Running Beta: 0.01\n",
            "\n",
            "  Running Wee: 0.001\n",
            "  Running Wee: 0.20096\n",
            "  Running Wee: 0.40092\n",
            "  Running Wee: 0.60088\n",
            "  Running Wee: 0.80084\n",
            "  Running Wee: 1.0008\n",
            "  Running Wee: 1.2007599999999998\n",
            "  Running Wee: 1.40072\n",
            "  Running Wee: 1.6006799999999999\n",
            "  Running Wee: 1.8006399999999998\n",
            "  Running Wee: 2.0006\n",
            "  Running Wee: 2.20056\n",
            "  Running Wee: 2.4005199999999998\n",
            "  Running Wee: 2.6004799999999997\n",
            "  Running Wee: 2.80044\n",
            "  Running Wee: 3.0004\n",
            "  Running Wee: 3.20036\n",
            "  Running Wee: 3.40032\n",
            "  Running Wee: 3.6002799999999997\n",
            "  Running Wee: 3.80024\n",
            "  Running Wee: 4.0002\n",
            "  Running Wee: 4.20016\n",
            "  Running Wee: 4.40012\n",
            "  Running Wee: 4.60008\n",
            "  Running Wee: 4.80004\n",
            "  Running Wee: 5.0\n",
            "\n",
            " Running Beta: 0.03\n",
            "\n",
            "  Running Wee: 0.001\n",
            "  Running Wee: 0.20096\n",
            "  Running Wee: 0.40092\n",
            "  Running Wee: 0.60088\n",
            "  Running Wee: 0.80084\n",
            "  Running Wee: 1.0008\n",
            "  Running Wee: 1.2007599999999998\n",
            "  Running Wee: 1.40072\n",
            "  Running Wee: 1.6006799999999999\n",
            "  Running Wee: 1.8006399999999998\n",
            "  Running Wee: 2.0006\n",
            "  Running Wee: 2.20056\n",
            "  Running Wee: 2.4005199999999998\n",
            "  Running Wee: 2.6004799999999997\n",
            "  Running Wee: 2.80044\n",
            "  Running Wee: 3.0004\n",
            "  Running Wee: 3.20036\n",
            "  Running Wee: 3.40032\n",
            "  Running Wee: 3.6002799999999997\n",
            "  Running Wee: 3.80024\n",
            "  Running Wee: 4.0002\n",
            "  Running Wee: 4.20016\n",
            "  Running Wee: 4.40012\n",
            "  Running Wee: 4.60008\n",
            "  Running Wee: 4.80004\n",
            "  Running Wee: 5.0\n",
            "\n",
            " Running Beta: 0.049999999999999996\n",
            "\n",
            "  Running Wee: 0.001\n",
            "  Running Wee: 0.20096\n",
            "  Running Wee: 0.40092\n",
            "  Running Wee: 0.60088\n",
            "  Running Wee: 0.80084\n",
            "  Running Wee: 1.0008\n",
            "  Running Wee: 1.2007599999999998\n",
            "  Running Wee: 1.40072\n",
            "  Running Wee: 1.6006799999999999\n",
            "  Running Wee: 1.8006399999999998\n",
            "  Running Wee: 2.0006\n",
            "  Running Wee: 2.20056\n",
            "  Running Wee: 2.4005199999999998\n",
            "  Running Wee: 2.6004799999999997\n",
            "  Running Wee: 2.80044\n",
            "  Running Wee: 3.0004\n",
            "  Running Wee: 3.20036\n",
            "  Running Wee: 3.40032\n",
            "  Running Wee: 3.6002799999999997\n",
            "  Running Wee: 3.80024\n",
            "  Running Wee: 4.0002\n",
            "  Running Wee: 4.20016\n",
            "  Running Wee: 4.40012\n",
            "  Running Wee: 4.60008\n",
            "  Running Wee: 4.80004\n",
            "  Running Wee: 5.0\n",
            "\n",
            " Running Beta: 0.06999999999999999\n",
            "\n",
            "  Running Wee: 0.001\n",
            "  Running Wee: 0.20096\n",
            "  Running Wee: 0.40092\n",
            "  Running Wee: 0.60088\n",
            "  Running Wee: 0.80084\n",
            "  Running Wee: 1.0008\n",
            "  Running Wee: 1.2007599999999998\n",
            "  Running Wee: 1.40072\n",
            "  Running Wee: 1.6006799999999999\n",
            "  Running Wee: 1.8006399999999998\n",
            "  Running Wee: 2.0006\n",
            "  Running Wee: 2.20056\n",
            "  Running Wee: 2.4005199999999998\n",
            "  Running Wee: 2.6004799999999997\n",
            "  Running Wee: 2.80044\n",
            "  Running Wee: 3.0004\n",
            "  Running Wee: 3.20036\n",
            "  Running Wee: 3.40032\n",
            "  Running Wee: 3.6002799999999997\n",
            "  Running Wee: 3.80024\n",
            "  Running Wee: 4.0002\n",
            "  Running Wee: 4.20016\n",
            "  Running Wee: 4.40012\n",
            "  Running Wee: 4.60008\n",
            "  Running Wee: 4.80004\n",
            "  Running Wee: 5.0\n",
            "\n",
            " Running Beta: 0.08999999999999998\n",
            "\n",
            "  Running Wee: 0.001\n",
            "  Running Wee: 0.20096\n",
            "  Running Wee: 0.40092\n",
            "  Running Wee: 0.60088\n",
            "  Running Wee: 0.80084\n",
            "  Running Wee: 1.0008\n",
            "  Running Wee: 1.2007599999999998\n",
            "  Running Wee: 1.40072\n",
            "  Running Wee: 1.6006799999999999\n",
            "  Running Wee: 1.8006399999999998\n",
            "  Running Wee: 2.0006\n",
            "  Running Wee: 2.20056\n",
            "  Running Wee: 2.4005199999999998\n",
            "  Running Wee: 2.6004799999999997\n",
            "  Running Wee: 2.80044\n",
            "  Running Wee: 3.0004\n",
            "  Running Wee: 3.20036\n",
            "  Running Wee: 3.40032\n",
            "  Running Wee: 3.6002799999999997\n",
            "  Running Wee: 3.80024\n",
            "  Running Wee: 4.0002\n",
            "  Running Wee: 4.20016\n",
            "  Running Wee: 4.40012\n",
            "  Running Wee: 4.60008\n",
            "  Running Wee: 4.80004\n",
            "  Running Wee: 5.0\n",
            "Time elapsed: 1633.5059673786163\n"
          ],
          "name": "stdout"
        }
      ]
    },
    {
      "cell_type": "code",
      "metadata": {
        "id": "nMwK9HnxNdRj",
        "colab_type": "code",
        "colab": {
          "base_uri": "https://localhost:8080/",
          "height": 527
        },
        "outputId": "57ec76a7-5f7c-4809-b97f-1ab30397c908"
      },
      "source": [
        "#Simulated values\n",
        "sim_ss"
      ],
      "execution_count": 7,
      "outputs": [
        {
          "output_type": "execute_result",
          "data": {
            "text/plain": [
              "array([[ 0.24183796,  0.26827355,  0.30250491,  0.34704512,  0.40694208,\n",
              "         0.48948081,  0.61024049,  0.80947221,  1.18611967,  2.09783961,\n",
              "         5.02327646, 11.14779315, 17.84389976, 23.89395973, 29.18844245,\n",
              "        33.83877652, 37.9201206 , 41.52975366, 44.755427  , 47.65440358,\n",
              "        50.25234131, 52.60629323, 54.76005347, 56.710979  , 58.515022  ,\n",
              "        60.17442814],\n",
              "       [ 0.24180286,  0.2682981 ,  0.30299142,  0.34748655,  0.40424267,\n",
              "         0.48504477,  0.59964514,  0.78194582,  1.09690675,  1.71031578,\n",
              "         2.89976405,  4.65926318,  6.61026936,  8.45244333, 10.12468273,\n",
              "        11.58520961, 12.89801969, 14.07652521, 15.131581  , 16.06417846,\n",
              "        16.92199425, 17.67899575, 18.38648667, 19.03797147, 19.63140412,\n",
              "        20.1557319 ],\n",
              "       [ 0.24185197,  0.26865635,  0.30274653,  0.34740481,  0.40200393,\n",
              "         0.48014683,  0.59016693,  0.75887973,  1.02885088,  1.49221043,\n",
              "         2.2486723 ,  3.23906615,  4.29533553,  5.33233326,  6.28228445,\n",
              "         7.12822829,  7.8919922 ,  8.57042731,  9.1925215 ,  9.73856992,\n",
              "        10.24011201, 10.69325688, 11.11137146, 11.49755943, 11.85219367,\n",
              "        12.16955962],\n",
              "       [ 0.24181738,  0.26856365,  0.30270381,  0.34433266,  0.3997641 ,\n",
              "         0.47485613,  0.58111235,  0.73767463,  0.97435317,  1.35386774,\n",
              "         1.88261397,  2.55739853,  3.27881624,  3.97835343,  4.62894346,\n",
              "         5.22810037,  5.73785406,  6.21445532,  6.63886905,  7.03992808,\n",
              "         7.39349151,  7.71248498,  7.9940914 ,  8.26207202,  8.50606107,\n",
              "         8.72939639],\n",
              "       [ 0.24175622,  0.26839216,  0.30279827,  0.34470092,  0.39993435,\n",
              "         0.47129672,  0.57375386,  0.71499679,  0.92737083,  1.25043384,\n",
              "         1.67606523,  2.1715309 ,  2.69873851,  3.21791155,  3.70125479,\n",
              "         4.14756659,  4.55026507,  4.89914371,  5.22450238,  5.52864067,\n",
              "         5.79726205,  6.03978273,  6.25524519,  6.46437322,  6.64643332,\n",
              "         6.83707338]])"
            ]
          },
          "metadata": {
            "tags": []
          },
          "execution_count": 7
        }
      ]
    },
    {
      "cell_type": "code",
      "metadata": {
        "id": "44F4PRzLNdRv",
        "colab_type": "code",
        "colab": {
          "base_uri": "https://localhost:8080/",
          "height": 527
        },
        "outputId": "f809b3da-10cd-4437-8c85-5f27e276fa6b"
      },
      "source": [
        "#Analytical values\n",
        "ana_ss"
      ],
      "execution_count": 8,
      "outputs": [
        {
          "output_type": "execute_result",
          "data": {
            "text/plain": [
              "array([[ 0.25012475,  0.27783978,  0.31243505,  0.35682068,  0.4158039 ,\n",
              "         0.49791714,  0.61982248,  0.81866924,  1.19489599,  2.10703628,\n",
              "         5.01426816, 11.15156029, 17.8515009 , 23.89575087, 29.19422221,\n",
              "        33.83474564, 37.91904616, 41.53602435, 44.75904448, 47.64787611,\n",
              "        50.25123753, 52.60904511, 54.7542275 , 56.7141472 , 58.51170612,\n",
              "        60.16620626],\n",
              "       [ 0.25012412,  0.27766764,  0.31194786,  0.35573702,  0.41353237,\n",
              "         0.49309438,  0.60888456,  0.79051543,  1.10523205,  1.71295852,\n",
              "         2.89132126,  4.66244693,  6.61167572,  8.45505709, 10.11587761,\n",
              "        11.5932172 , 12.90586149, 14.07556306, 15.12237556, 16.06360186,\n",
              "        16.91383431, 17.68529513, 18.38822063, 19.03120984, 19.62151862,\n",
              "        20.16530045],\n",
              "       [ 0.2501235 ,  0.27749592,  0.31146368,  0.35466637,  0.41130948,\n",
              "         0.48845195,  0.59867118,  0.76579829,  1.03671533,  1.49656397,\n",
              "         2.23873375,  3.22979945,  4.30467409,  5.33854163,  6.28471329,\n",
              "         7.13552793,  7.89707758,  8.57919562,  9.19192706,  9.74439278,\n",
              "        10.24452067, 10.69908279, 11.1138287 , 11.49363634, 11.84265244,\n",
              "        12.164414  ],\n",
              "       [ 0.25012287,  0.27732463,  0.3109825 ,  0.35360846,  0.40913332,\n",
              "         0.48397766,  0.58909777,  0.7438138 ,  0.98170545,  1.35212493,\n",
              "         1.89168238,  2.5666576 ,  3.28839408,  3.98756028,  4.63368729,\n",
              "         5.21929626,  5.74653626,  6.22082299,  6.64824414,  7.03458358,\n",
              "         7.3850049 ,  7.70399691,  7.99541772,  8.26257015,  8.50828111,\n",
              "         8.73497471],\n",
              "       [ 0.25012225,  0.27715376,  0.31050426,  0.35256298,  0.40700209,\n",
              "         0.47966049,  0.58009365,  0.72405262,  0.93603743,  1.2460007 ,\n",
              "         1.66808372,  2.17396456,  2.70836371,  3.22758594,  3.71049928,\n",
              "         4.15077752,  4.54904766,  4.90862776,  5.23359488,  5.52798108,\n",
              "         5.79547203,  6.03932217,  6.26235978,  6.46702592,  6.65542302,\n",
              "         6.82936283]])"
            ]
          },
          "metadata": {
            "tags": []
          },
          "execution_count": 8
        }
      ]
    },
    {
      "cell_type": "code",
      "metadata": {
        "id": "v1f-PSa-NdRz",
        "colab_type": "code",
        "colab": {
          "base_uri": "https://localhost:8080/",
          "height": 364
        },
        "outputId": "c609bc12-6c6e-4e4d-80f3-1681e9376e80"
      },
      "source": [
        "#Plot results\n",
        "\n",
        "w = np.zeros((5,26))\n",
        "wee_w = np.linspace(0.01,5.0,26) \n",
        "for i in range(5):\n",
        "    w[i] = wee_w\n",
        "\n",
        "l = [0.2,0.3,0.4,0.5,0.6]\n",
        "font = {'family': 'serif',\n",
        "        'color':  'black',\n",
        "        'weight': 'normal',\n",
        "        'size':9,\n",
        "        }\n",
        "fig, ax = plt.subplots(figsize=(4, 3), dpi=100)\n",
        "for i in range(5): \n",
        "    ax.spines['top'].set_visible(False)\n",
        "    ax.spines['right'].set_visible(False)    \n",
        "    ax.plot(w[i,np.nonzero(sim_ss[i])],sim_ss[i,np.nonzero(sim_ss[i])],\"go\",alpha=l[i])    \n",
        "    ax.plot(w[i],ana_ss[i],color=\"g\",alpha=l[i])\n",
        "    plt.title(\"Firing rate vs WEE with presynaptic inhibition\",pad=35,fontdict=font)\n",
        "    plt.ylabel(\"Firing rate [Hz]\",fontdict=font)\n",
        "    plt.xlabel(\"Recurrence WEE [a.u]\",fontdict=font)\n",
        "    plt.ylim(0,15)\n",
        "    plt.yticks(np.arange(0,16,5))\n",
        "    plt.annotate(\n",
        "     # Label and coordinate\n",
        "    '${β}$', xy=(4,3.5),xytext=(1.8,10) ,\n",
        "    horizontalalignment=\"center\",fontsize=12,\n",
        "    # Custom arrow\n",
        "    arrowprops=dict(arrowstyle='->',lw=0.8),\n",
        "    va='center'\n",
        "    )\n",
        "    \n",
        "plt.show()"
      ],
      "execution_count": 9,
      "outputs": [
        {
          "output_type": "display_data",
          "data": {
            "image/png": "[encoded data removed]",
            "text/plain": [
              "<Figure size 400x300 with 1 Axes>"
            ]
          },
          "metadata": {
            "tags": [],
            "needs_background": "light"
          }
        }
      ]
    }
  ]
}